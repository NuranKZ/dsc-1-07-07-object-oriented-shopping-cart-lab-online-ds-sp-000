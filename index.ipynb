{
 "cells": [
  {
   "cell_type": "markdown",
   "metadata": {
    "toc": true
   },
   "source": [
    "<h1>Table of Contents<span class=\"tocSkip\"></span></h1>\n",
    "<div class=\"toc\"><ul class=\"toc-item\"><li><span><a href=\"#Introduction\" data-toc-modified-id=\"Introduction-1\"><span class=\"toc-item-num\">1&nbsp;&nbsp;</span>Introduction</a></span></li><li><span><a href=\"#Objectives\" data-toc-modified-id=\"Objectives-2\"><span class=\"toc-item-num\">2&nbsp;&nbsp;</span>Objectives</a></span></li><li><span><a href=\"#Instructions\" data-toc-modified-id=\"Instructions-3\"><span class=\"toc-item-num\">3&nbsp;&nbsp;</span>Instructions</a></span></li><li><span><a href=\"#Add-an-Initialization-Behavior-to-the-ShoppingCart-Class\" data-toc-modified-id=\"Add-an-Initialization-Behavior-to-the-ShoppingCart-Class-4\"><span class=\"toc-item-num\">4&nbsp;&nbsp;</span>Add an Initialization Behavior to the ShoppingCart Class</a></span></li><li><span><a href=\"#Add-and-add_item()-method.\" data-toc-modified-id=\"Add-and-add_item()-method.-5\"><span class=\"toc-item-num\">5&nbsp;&nbsp;</span>Add and <code>add_item()</code> method.</a></span></li><li><span><a href=\"#Add-Summary-Methods-mean_item_price()-and-median_item_price()\" data-toc-modified-id=\"Add-Summary-Methods-mean_item_price()-and-median_item_price()-6\"><span class=\"toc-item-num\">6&nbsp;&nbsp;</span>Add Summary Methods <code>mean_item_price()</code> and <code>median_item_price()</code></a></span></li><li><span><a href=\"#Add-an-apply_discount-method\" data-toc-modified-id=\"Add-an-apply_discount-method-7\"><span class=\"toc-item-num\">7&nbsp;&nbsp;</span>Add an <code>apply_discount</code> method</a></span></li><li><span><a href=\"#Add-a-void_last_item()-method\" data-toc-modified-id=\"Add-a-void_last_item()-method-8\"><span class=\"toc-item-num\">8&nbsp;&nbsp;</span>Add a <code>void_last_item()</code> method</a></span></li><li><span><a href=\"#Summary\" data-toc-modified-id=\"Summary-9\"><span class=\"toc-item-num\">9&nbsp;&nbsp;</span>Summary</a></span></li></ul></div>"
   ]
  },
  {
   "cell_type": "markdown",
   "metadata": {},
   "source": [
    "# Object Oriented Shopping Cart - Lab"
   ]
  },
  {
   "cell_type": "markdown",
   "metadata": {},
   "source": [
    "## Introduction\n",
    "In this lab we will be mimicing the functionality of a shopping cart with our knowledge of object oriented Python. Our shopping cart will be able to add items of different quantities and prices to our cart, calculate discounts, keep track of what items have been added, and void transactions."
   ]
  },
  {
   "cell_type": "markdown",
   "metadata": {},
   "source": [
    "## Objectives\n",
    "\n",
    "You will be able to:\n",
    "\n",
    "* Build a class with instance methods\n",
    "* Call instance methods inside of other instance methods\n",
    "* Use instance methods to track information pertinent to an instance of a class"
   ]
  },
  {
   "cell_type": "markdown",
   "metadata": {},
   "source": [
    "## Instructions"
   ]
  },
  {
   "cell_type": "markdown",
   "metadata": {},
   "source": [
    "In this lab, you'll practice your object orientated programming skills by modifying the shopping_cart.py file.\n",
    "\n",
    "To start, we'll set this notebook to autoreload packages so that when you update shopping_cart.py, you can experiment with the effects here. Remember that while the package will be reloaded, you will need to reinitialize your class instance. Here's an example to get you started:"
   ]
  },
  {
   "cell_type": "code",
   "execution_count": 1,
   "metadata": {},
   "outputs": [],
   "source": [
    "%load_ext autoreload\n",
    "%autoreload 2"
   ]
  },
  {
   "cell_type": "code",
   "execution_count": 2,
   "metadata": {},
   "outputs": [],
   "source": [
    "#Import our custom package\n",
    "from shopping_cart import ShoppingCart"
   ]
  },
  {
   "cell_type": "code",
   "execution_count": 3,
   "metadata": {},
   "outputs": [],
   "source": [
    "#Initialize an instance of our shopping cart class\n",
    "shopping_cart = ShoppingCart()"
   ]
  },
  {
   "cell_type": "markdown",
   "metadata": {},
   "source": [
    "## Add an Initialization Behavior to the ShoppingCart Class\n",
    "\n",
    "Update your shopping_cart.py file to include an __init__ method. This should define three default attributes: 'total', which should be set to 0, 'employee_discount', set to None and 'items', set to a blank list. The line of code below should work and produce the previewed output once you do this."
   ]
  },
  {
   "cell_type": "code",
   "execution_count": 4,
   "metadata": {},
   "outputs": [
    {
     "name": "stdout",
     "output_type": "stream",
     "text": [
      "0\n",
      "None\n",
      "[]\n"
     ]
    }
   ],
   "source": [
    "shopping_cart = ShoppingCart() #Add a line to reinitialize an instance of the class\n",
    "print(shopping_cart.total)\n",
    "print(shopping_cart.employee_discount)\n",
    "print(shopping_cart.items)"
   ]
  },
  {
   "cell_type": "markdown",
   "metadata": {},
   "source": [
    "## Add and `add_item()` method."
   ]
  },
  {
   "cell_type": "markdown",
   "metadata": {},
   "source": [
    "Define an instance method called `add_item` that will add an item to our cart. It should take in the name of an item, its price and an optional quantity. The method should increase the shopping cart's total by the appropriate amount and return the new total for the shopping cart."
   ]
  },
  {
   "cell_type": "markdown",
   "metadata": {},
   "source": [
    "> **hint:** think about how you would like to keep this information in your list of items. Can we imagine wanting to ever check the price of an individual item after we've added it to our cart? What data type do we know of that can associate the item name with it's price?"
   ]
  },
  {
   "cell_type": "code",
   "execution_count": 5,
   "metadata": {},
   "outputs": [
    {
     "data": {
      "text/plain": [
       "45.99"
      ]
     },
     "execution_count": 5,
     "metadata": {},
     "output_type": "execute_result"
    }
   ],
   "source": [
    "shopping_cart.add_item(\"rainbow sandals\", 45.99) # 45.99"
   ]
  },
  {
   "cell_type": "code",
   "execution_count": 6,
   "metadata": {},
   "outputs": [
    {
     "data": {
      "text/plain": [
       "56.49"
      ]
     },
     "execution_count": 6,
     "metadata": {},
     "output_type": "execute_result"
    }
   ],
   "source": [
    "shopping_cart.add_item(\"agyle socks\", 10.50) # 56.49"
   ]
  },
  {
   "cell_type": "code",
   "execution_count": 7,
   "metadata": {},
   "outputs": [
    {
     "name": "stdout",
     "output_type": "stream",
     "text": [
      "['rainbow sandals', 'agyle socks']\n"
     ]
    },
    {
     "data": {
      "text/plain": [
       "206.49"
      ]
     },
     "execution_count": 7,
     "metadata": {},
     "output_type": "execute_result"
    }
   ],
   "source": [
    "print(shopping_cart.items)\n",
    "shopping_cart.add_item(\"jeans\", 50.00, 3) # 206.49"
   ]
  },
  {
   "cell_type": "markdown",
   "metadata": {},
   "source": [
    "## Add Summary Methods `mean_item_price()` and `median_item_price()` "
   ]
  },
  {
   "cell_type": "markdown",
   "metadata": {},
   "source": [
    "Define two more instance methods: `mean_item_price` and `median_item_price`, which should return the average price per item and the median price of the items in your cart, respectively. \n",
    "\n",
    "> **Remember:** the mean is the average price per item and to find the median we must do three things:\n",
    "* First put all numbers in our list in ascending order (smallest to greatest)\n",
    "* Then check to see if there is an odd number of elements in our list. If so, the middle number is the median\n",
    "* Finally, if there is an even number of elements in the list, the median will be the average or mean of the two center elements (e.g. given the list `[1,2,3,4]` the elements `2` and `3` are the two center elements and the median would be (2 + 3)/2 or `2.5`)."
   ]
  },
  {
   "cell_type": "code",
   "execution_count": 8,
   "metadata": {},
   "outputs": [
    {
     "data": {
      "text/plain": [
       "41.298"
      ]
     },
     "execution_count": 8,
     "metadata": {},
     "output_type": "execute_result"
    }
   ],
   "source": [
    "shopping_cart.mean_item_price() # 41.29"
   ]
  },
  {
   "cell_type": "code",
   "execution_count": 9,
   "metadata": {},
   "outputs": [
    {
     "data": {
      "text/plain": [
       "50.0"
      ]
     },
     "execution_count": 9,
     "metadata": {},
     "output_type": "execute_result"
    }
   ],
   "source": [
    "shopping_cart.median_item_price() # 50.00"
   ]
  },
  {
   "cell_type": "markdown",
   "metadata": {},
   "source": [
    "## Add an `apply_discount` method"
   ]
  },
  {
   "cell_type": "markdown",
   "metadata": {},
   "source": [
    "Now, let's define an instance method called `apply_discount` that applies a discount if one is provided and returns the discounted total. For example, if we initialize a new shopping cart with a discount of 20% then our total should be discounted in the amount of 20%. So, if our total were `$100`, after the discount we only would owe `$80`.\n",
    "\n",
    "If our shopping cart does not have an employee discount, then it should return a string saying: `\"Sorry, there is no discount to apply to your cart :(\"`"
   ]
  },
  {
   "cell_type": "code",
   "execution_count": 10,
   "metadata": {},
   "outputs": [
    {
     "name": "stdout",
     "output_type": "stream",
     "text": [
      "45.0\n",
      "60.0\n",
      "48.0\n",
      "1060.0\n",
      "848.0\n",
      "Sorry, there is no discount to apply to your cart :(\n"
     ]
    }
   ],
   "source": [
    "discount_shopping_cart = ShoppingCart(20)\n",
    "print(discount_shopping_cart.add_item(\"rainbow sandals\", 45.00)) # 45.00\n",
    "print(discount_shopping_cart.add_item(\"agyle socks\", 15.00)) # 60.00\n",
    "print(discount_shopping_cart.apply_discount()) # 48.00\n",
    "print(discount_shopping_cart.add_item(\"macbook air\", 1000.00)) # 1060.00\n",
    "print(discount_shopping_cart.apply_discount()) # 848.00\n",
    "print(shopping_cart.apply_discount()) # Sorry, there is no discount to apply to your cart :("
   ]
  },
  {
   "cell_type": "markdown",
   "metadata": {},
   "source": [
    "## Add a `void_last_item()` method"
   ]
  },
  {
   "cell_type": "markdown",
   "metadata": {},
   "source": [
    "Finally, we are missing one piece of functionality. What if we just accidentally added something to our cart or decided that this item is too expensive for our budget? Let's define a method called `void_last_item` that removes the last item from our shopping cart and updates its total.  If there are no items in the shopping cart, `void_last_item` should return `\"There are no items in your cart!\"`."
   ]
  },
  {
   "cell_type": "code",
   "execution_count": 12,
   "metadata": {},
   "outputs": [
    {
     "data": {
      "text/plain": [
       "156.49"
      ]
     },
     "execution_count": 12,
     "metadata": {},
     "output_type": "execute_result"
    }
   ],
   "source": [
    "shopping_cart.void_last_item()\n",
    "shopping_cart.total # 156.49\n",
    "#shopping_cart.items\n",
    "#shopping_cart.prices"
   ]
  },
  {
   "cell_type": "markdown",
   "metadata": {},
   "source": [
    "## Summary\n",
    "In this lab, we practiced using instance methods to mimic the functionality of a shopping cart as well as defined methods that give us the mean and median prices of all the items in our cart. "
   ]
  }
 ],
 "metadata": {
  "kernelspec": {
   "display_name": "learn-env",
   "language": "python",
   "name": "learn-env"
  },
  "language_info": {
   "codemirror_mode": {
    "name": "ipython",
    "version": 3
   },
   "file_extension": ".py",
   "mimetype": "text/x-python",
   "name": "python",
   "nbconvert_exporter": "python",
   "pygments_lexer": "ipython3",
   "version": "3.7.1"
  },
  "toc": {
   "base_numbering": 1,
   "nav_menu": {},
   "number_sections": true,
   "sideBar": true,
   "skip_h1_title": true,
   "title_cell": "Table of Contents",
   "title_sidebar": "Contents",
   "toc_cell": true,
   "toc_position": {},
   "toc_section_display": true,
   "toc_window_display": false
  },
  "varInspector": {
   "cols": {
    "lenName": 16,
    "lenType": 16,
    "lenVar": 40
   },
   "kernels_config": {
    "python": {
     "delete_cmd_postfix": "",
     "delete_cmd_prefix": "del ",
     "library": "var_list.py",
     "varRefreshCmd": "print(var_dic_list())"
    },
    "r": {
     "delete_cmd_postfix": ") ",
     "delete_cmd_prefix": "rm(",
     "library": "var_list.r",
     "varRefreshCmd": "cat(var_dic_list()) "
    }
   },
   "types_to_exclude": [
    "module",
    "function",
    "builtin_function_or_method",
    "instance",
    "_Feature"
   ],
   "window_display": false
  }
 },
 "nbformat": 4,
 "nbformat_minor": 2
}
